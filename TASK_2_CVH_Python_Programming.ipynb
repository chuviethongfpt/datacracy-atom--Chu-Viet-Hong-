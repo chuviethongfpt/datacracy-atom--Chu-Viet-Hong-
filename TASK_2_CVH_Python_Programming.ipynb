{
  "nbformat": 4,
  "nbformat_minor": 0,
  "metadata": {
    "colab": {
      "name": "TASK 2: CVH_Python Programming.ipynb",
      "provenance": [],
      "collapsed_sections": [
        "sSTgfVPEw_BI",
        "O0tARF_1xeU3",
        "AAV3q-a25h2l",
        "spb5O_FJ8btW",
        "AtcHqwQ99oaO"
      ],
      "toc_visible": true,
      "authorship_tag": "ABX9TyNVBFQrsxTyz7P4SSh0BaK3",
      "include_colab_link": true
    },
    "kernelspec": {
      "name": "python3",
      "display_name": "Python 3"
    },
    "language_info": {
      "name": "python"
    }
  },
  "cells": [
    {
      "cell_type": "markdown",
      "metadata": {
        "id": "view-in-github",
        "colab_type": "text"
      },
      "source": [
        "<a href=\"https://colab.research.google.com/github/chuviethongfpt/datacracy-atom--Chu-Viet-Hong-/blob/https%2Fdocs.google.com%2Fspreadsheets%2Fd%2F1ArM8cxJNU4H17t9Ts3TnJkcvRLorTOmewW96oucYlCI%2Fedit%23gid%3D4530119/TASK_2_CVH_Python_Programming.ipynb\" target=\"_parent\"><img src=\"https://colab.research.google.com/assets/colab-badge.svg\" alt=\"Open In Colab\"/></a>"
      ]
    },
    {
      "cell_type": "markdown",
      "metadata": {
        "id": "sSTgfVPEw_BI"
      },
      "source": [
        "# YOUR FIRST PROGRAM"
      ]
    },
    {
      "cell_type": "code",
      "metadata": {
        "colab": {
          "base_uri": "https://localhost:8080/"
        },
        "id": "QOKCE1omxEAS",
        "outputId": "ee1a917c-25e5-4a74-e1a4-2263f3892ddf"
      },
      "source": [
        "# This program says hello and asks for my name\n",
        "print('Hello World')\n",
        "print('What is your name') #ask for their name"
      ],
      "execution_count": null,
      "outputs": [
        {
          "output_type": "stream",
          "text": [
            "Hello World\n",
            "What is your name\n"
          ],
          "name": "stdout"
        }
      ]
    },
    {
      "cell_type": "code",
      "metadata": {
        "colab": {
          "base_uri": "https://localhost:8080/"
        },
        "id": "hjH9RsEIxK8D",
        "outputId": "dc90e348-19b1-4b67-ffb6-58c245bbbf89"
      },
      "source": [
        "myName= input('My name is')"
      ],
      "execution_count": null,
      "outputs": [
        {
          "output_type": "stream",
          "text": [
            "My name is Chu Viet Hong\n"
          ],
          "name": "stdout"
        }
      ]
    },
    {
      "cell_type": "code",
      "metadata": {
        "colab": {
          "base_uri": "https://localhost:8080/"
        },
        "id": "ycVoe310xPPc",
        "outputId": "4f05543a-cbcd-457f-a939-52938790c84b"
      },
      "source": [
        "print('It is good to meet you,'+ myName)"
      ],
      "execution_count": null,
      "outputs": [
        {
          "output_type": "stream",
          "text": [
            "It is good to meet you, Chu Viet Hong\n"
          ],
          "name": "stdout"
        }
      ]
    },
    {
      "cell_type": "code",
      "metadata": {
        "colab": {
          "base_uri": "https://localhost:8080/"
        },
        "id": "dxNbjPRKxSCG",
        "outputId": "2ec3b7dc-7536-43bb-e0bf-42c77b3dc817"
      },
      "source": [
        "print('The length of my name is:')\n",
        "print(len(myName))"
      ],
      "execution_count": null,
      "outputs": [
        {
          "output_type": "stream",
          "text": [
            "The length of my name is:\n",
            "14\n"
          ],
          "name": "stdout"
        }
      ]
    },
    {
      "cell_type": "code",
      "metadata": {
        "colab": {
          "base_uri": "https://localhost:8080/"
        },
        "id": "LcS3NOE4xVUx",
        "outputId": "18c9afa3-a2ad-4951-a3c6-9cbdcbb61c7c"
      },
      "source": [
        "print('What is your age?') #ask for their age\n",
        "myAge=input()"
      ],
      "execution_count": null,
      "outputs": [
        {
          "output_type": "stream",
          "text": [
            "What is your age?\n",
            "22\n"
          ],
          "name": "stdout"
        }
      ]
    },
    {
      "cell_type": "code",
      "metadata": {
        "colab": {
          "base_uri": "https://localhost:8080/"
        },
        "id": "5hKFodyzxaHY",
        "outputId": "aaab2cfa-b115-446e-b32a-075a3833b347"
      },
      "source": [
        "print('You will be '+str(int(myAge)+1)+' in a year.')"
      ],
      "execution_count": null,
      "outputs": [
        {
          "output_type": "stream",
          "text": [
            "You will be 23 in a year.\n"
          ],
          "name": "stdout"
        }
      ]
    },
    {
      "cell_type": "markdown",
      "metadata": {
        "id": "O0tARF_1xeU3"
      },
      "source": [
        "# Flow Control - A Short Program: Rock, Paper, Scissors\n"
      ]
    },
    {
      "cell_type": "code",
      "metadata": {
        "id": "FxklUtbIxjQs"
      },
      "source": [
        "import random, sys"
      ],
      "execution_count": null,
      "outputs": []
    },
    {
      "cell_type": "code",
      "metadata": {
        "colab": {
          "base_uri": "https://localhost:8080/"
        },
        "id": "r5DJRRngySmd",
        "outputId": "1a6d705d-da49-4d5f-ec64-022f6eba5ac5"
      },
      "source": [
        "print('ROCK, PAPER, SCISSORS')"
      ],
      "execution_count": null,
      "outputs": [
        {
          "output_type": "stream",
          "text": [
            "ROCK, PAPER, SCISSORS\n"
          ],
          "name": "stdout"
        }
      ]
    },
    {
      "cell_type": "code",
      "metadata": {
        "colab": {
          "base_uri": "https://localhost:8080/",
          "height": 548
        },
        "id": "cgMSaczYyYAP",
        "outputId": "416a2ed8-308e-41db-c892-d8ebe86b5305"
      },
      "source": [
        "#These variables keep track of the number of wins, losses, and ties.\n",
        "wins = 0\n",
        "losses = 0\n",
        "ties = 0\n",
        "while True: #The main game loop.\n",
        "  print('%s Wins, %s Losses, %s Ties' % (wins, losses, ties))\n",
        "  while True: #The player input loop.\n",
        "    print('Enter your move: (r)ock (p)aper (s)cissors or (q)uit')\n",
        "    playerMove= input()\n",
        "    if playerMove == 'q':\n",
        "      sys.exit() #Quit the program\n",
        "    if playerMove == 'r' or playerMove == 'p' or playerMove == 's':\n",
        "      break #Break out of the player input loop.\n",
        "    print('Type one of r, p, s, or q.')\n",
        "  \n",
        "  #Display what the player choose:\n",
        "  if playerMove == 'r':\n",
        "    print('ROCK versus...')\n",
        "  elif playerMove == 'p':\n",
        "    print('PAPER versus...')\n",
        "  elif playerMove == 's':\n",
        "    print('SCISSORS versus...')\n",
        "  \n",
        "  #Display what the computer choose:\n",
        "  randomNumber = random.randint(1,3)\n",
        "  if randomNumber == 1:\n",
        "    computerMove = 'r'\n",
        "    print('ROCK')\n",
        "  elif randomNumber == 2:\n",
        "    computerMove = 'p'\n",
        "    print('PAPER')\n",
        "  elif randomNumber == 3:\n",
        "    computerMove = 's'\n",
        "    print('SCISSORS')\n",
        "  \n",
        "  #Display and record the win/loss/tie:\n",
        "  if playerMove == computerMove:\n",
        "    print('It is a tie!')\n",
        "    ties = ties + 1\n",
        "  elif playerMove == 'r' and computerMove == 's':\n",
        "    print('You win!')\n",
        "    wins = wins + 1\n",
        "  elif playerMove == 'p' and computerMove == 'r':\n",
        "    print('You win!')\n",
        "    wins = wins + 1\n",
        "  elif playerMove == 's' and computerMove == 'p':\n",
        "    print('You win!')\n",
        "    wins = wins + 1\n",
        "  elif playerMove == 'r' and computerMove == 'p':\n",
        "    print('You lose!')\n",
        "    losses = losses + 1\n",
        "  elif playerMove == 'p' and computerMove == 's':\n",
        "    print('You lose!')\n",
        "    losses = losses + 1\n",
        "  elif playerMove == 's' and computerMove == 'r':\n",
        "    print('You lose!')\n",
        "    losses = losses + 1"
      ],
      "execution_count": null,
      "outputs": [
        {
          "output_type": "stream",
          "text": [
            "0 Wins, 0 Losses, 0 Ties\n",
            "Enter your move: (r)ock (p)aper (s)cissors or (q)uit\n",
            "r\n",
            "ROCK versus...\n",
            "PAPER\n",
            "You lose!\n",
            "0 Wins, 1 Losses, 0 Ties\n",
            "Enter your move: (r)ock (p)aper (s)cissors or (q)uit\n",
            "p\n",
            "PAPER versus...\n",
            "SCISSORS\n",
            "You lose!\n",
            "0 Wins, 2 Losses, 0 Ties\n",
            "Enter your move: (r)ock (p)aper (s)cissors or (q)uit\n",
            "s\n",
            "SCISSORS versus...\n",
            "ROCK\n",
            "You lose!\n",
            "0 Wins, 3 Losses, 0 Ties\n",
            "Enter your move: (r)ock (p)aper (s)cissors or (q)uit\n",
            "q\n"
          ],
          "name": "stdout"
        },
        {
          "output_type": "error",
          "ename": "SystemExit",
          "evalue": "ignored",
          "traceback": [
            "An exception has occurred, use %tb to see the full traceback.\n",
            "\u001b[0;31mSystemExit\u001b[0m\n"
          ]
        },
        {
          "output_type": "stream",
          "text": [
            "/usr/local/lib/python3.7/dist-packages/IPython/core/interactiveshell.py:2890: UserWarning: To exit: use 'exit', 'quit', or Ctrl-D.\n",
            "  warn(\"To exit: use 'exit', 'quit', or Ctrl-D.\", stacklevel=1)\n"
          ],
          "name": "stderr"
        }
      ]
    },
    {
      "cell_type": "markdown",
      "metadata": {
        "id": "AAV3q-a25h2l"
      },
      "source": [
        "# Functions - A Short Program: Zigzag\n"
      ]
    },
    {
      "cell_type": "code",
      "metadata": {
        "id": "T5e9dpay5lwX"
      },
      "source": [
        "import time\n",
        "import sys\n",
        "indent = 0 #How many spaces to indent.\n",
        "indentIncreasing = True #Whether the indentation is increasing or not"
      ],
      "execution_count": null,
      "outputs": []
    },
    {
      "cell_type": "code",
      "metadata": {
        "colab": {
          "base_uri": "https://localhost:8080/",
          "height": 1000
        },
        "id": "l52Irzou6BmY",
        "outputId": "6e11a1c2-e9f7-400d-f3de-9ff9358c0430"
      },
      "source": [
        "try:\n",
        "  while True: #The main program loop.\n",
        "    print(' ' * indent, end='')\n",
        "    print('********')\n",
        "    time.sleep(0.1) #Pause for 1/10 of a second.\n",
        "    if indentIncreasing:\n",
        "      #Increase the number of spaces:\n",
        "      indent = indent + 1\n",
        "      if indent == 20:\n",
        "        #Change direction:\n",
        "        indentIncreasing = False\n",
        "    else:\n",
        "      #Decrease the number of spaces:\n",
        "      indent = indent - 1\n",
        "      if indent == 0:\n",
        "        #Change direction:\n",
        "        indentIncreasing = True\n",
        "except KeyboardInterrupt:\n",
        "  sys.exit()  "
      ],
      "execution_count": null,
      "outputs": [
        {
          "output_type": "stream",
          "text": [
            "********\n",
            " ********\n",
            "  ********\n",
            "   ********\n",
            "    ********\n",
            "     ********\n",
            "      ********\n",
            "       ********\n",
            "        ********\n",
            "         ********\n",
            "          ********\n",
            "           ********\n",
            "            ********\n",
            "             ********\n",
            "              ********\n",
            "               ********\n",
            "                ********\n",
            "                 ********\n",
            "                  ********\n",
            "                   ********\n",
            "                    ********\n",
            "                   ********\n",
            "                  ********\n",
            "                 ********\n",
            "                ********\n",
            "               ********\n",
            "              ********\n",
            "             ********\n",
            "            ********\n",
            "           ********\n",
            "          ********\n",
            "         ********\n",
            "        ********\n",
            "       ********\n",
            "      ********\n",
            "     ********\n",
            "    ********\n",
            "   ********\n",
            "  ********\n",
            " ********\n",
            "********\n",
            " ********\n",
            "  ********\n",
            "   ********\n",
            "    ********\n",
            "     ********\n",
            "      ********\n",
            "       ********\n",
            "        ********\n",
            "         ********\n",
            "          ********\n",
            "           ********\n",
            "            ********\n",
            "             ********\n",
            "              ********\n",
            "               ********\n",
            "                ********\n",
            "                 ********\n",
            "                  ********\n",
            "                   ********\n",
            "                    ********\n",
            "                   ********\n",
            "                  ********\n",
            "                 ********\n",
            "                ********\n",
            "               ********\n",
            "              ********\n",
            "             ********\n",
            "            ********\n",
            "           ********\n",
            "          ********\n",
            "         ********\n",
            "        ********\n",
            "       ********\n",
            "      ********\n",
            "     ********\n",
            "    ********\n",
            "   ********\n",
            "  ********\n",
            " ********\n",
            "********\n",
            " ********\n",
            "  ********\n",
            "   ********\n",
            "    ********\n",
            "     ********\n",
            "      ********\n",
            "       ********\n",
            "        ********\n",
            "         ********\n",
            "          ********\n",
            "           ********\n",
            "            ********\n",
            "             ********\n",
            "              ********\n",
            "               ********\n",
            "                ********\n",
            "                 ********\n",
            "                  ********\n",
            "                   ********\n",
            "                    ********\n",
            "                   ********\n",
            "                  ********\n",
            "                 ********\n",
            "                ********\n",
            "               ********\n",
            "              ********\n",
            "             ********\n",
            "            ********\n",
            "           ********\n",
            "          ********\n",
            "         ********\n",
            "        ********\n",
            "       ********\n",
            "      ********\n",
            "     ********\n",
            "    ********\n",
            "   ********\n",
            "  ********\n",
            " ********\n",
            "********\n",
            " ********\n",
            "  ********\n",
            "   ********\n"
          ],
          "name": "stdout"
        },
        {
          "output_type": "error",
          "ename": "SystemExit",
          "evalue": "ignored",
          "traceback": [
            "An exception has occurred, use %tb to see the full traceback.\n",
            "\u001b[0;31mSystemExit\u001b[0m\n"
          ]
        },
        {
          "output_type": "stream",
          "text": [
            "/usr/local/lib/python3.7/dist-packages/IPython/core/interactiveshell.py:2890: UserWarning: To exit: use 'exit', 'quit', or Ctrl-D.\n",
            "  warn(\"To exit: use 'exit', 'quit', or Ctrl-D.\", stacklevel=1)\n"
          ],
          "name": "stderr"
        }
      ]
    },
    {
      "cell_type": "code",
      "metadata": {
        "id": "U8LHASXg8WFD"
      },
      "source": [
        ""
      ],
      "execution_count": null,
      "outputs": []
    },
    {
      "cell_type": "markdown",
      "metadata": {
        "id": "spb5O_FJ8btW"
      },
      "source": [
        "# Lists - A Short Program: Conway’s Game of Life\n"
      ]
    },
    {
      "cell_type": "code",
      "metadata": {
        "id": "DH2ku2-B3pjC"
      },
      "source": [
        "import random, time, copy\n",
        "WIDTH = 60\n",
        "HEIGHT = 20\n",
        "nextCells = []\n",
        "for x in range(WIDTH):\n",
        "  column = []\n",
        "  for y in range(HEIGHT):\n",
        "    if random.randint(0, 1) == 0:\n",
        "      column.append('#')\n",
        "    else:\n",
        "      column.append(' ') \n",
        "  nextCells.append(column)\n",
        "while True:\n",
        "  print('\\n\\n\\n\\n\\n')\n",
        "  currentCells = copy.deepcopy(nextCells)\n",
        "  for y in range(HEIGHT):\n",
        "    for x in range(WIDTH):\n",
        "      print(currentCells[x][y], end='')\n",
        "    print()\n",
        "  for x in range(WIDTH):\n",
        "    for y in range(HEIGHT):\n",
        "      leftCoord = (x - 1) % WIDTH\n",
        "      rightCoord = (x + 1) % WIDTH\n",
        "      aboveCoord = (y - 1) % HEIGHT\n",
        "      belowCoord = (y + 1) % HEIGHT\n",
        "      numNeighbors = 0\n",
        "      if currentCells[leftCoord][aboveCoord] == '#':\n",
        "        numNeighbors += 1 \n",
        "      if currentCells[x][aboveCoord] == '#':\n",
        "        numNeighbors += 1 # Top neighbor is alive.\n",
        "      if currentCells[rightCoord][aboveCoord] == '#':\n",
        "        numNeighbors += 1 # Top-right neighbor is alive.\n",
        "      if currentCells[leftCoord][y] == '#':\n",
        "        numNeighbors += 1 # Left neighbor is alive.\n",
        "      if currentCells[rightCoord][y] == '#':\n",
        "        numNeighbors += 1 # Right neighbor is alive.\n",
        "      if currentCells[leftCoord][belowCoord] == '#':\n",
        "        numNeighbors += 1 # Bottom-left neighbor is alive.\n",
        "      if currentCells[x][belowCoord] == '#':\n",
        "        numNeighbors += 1 # Bottom neighbor is alive.\n",
        "      if currentCells[rightCoord][belowCoord] == '#':\n",
        "        numNeighbors += 1 # Bottom-right neighbor is alive.\n",
        "      # Set cell based on Conway's Game of Life rules:\n",
        "      if currentCells[x][y] == '#' and (numNeighbors == 2 or\n",
        "        numNeighbors == 3):\n",
        "      # Living cells with 2 or 3 neighbors stay alive:\n",
        "        nextCells[x][y] = '#'\n",
        "      elif currentCells[x][y] == ' ' and numNeighbors == 3:\n",
        "      # Dead cells with 3 neighbors become alive:\n",
        "        nextCells[x][y] = '#'\n",
        "      else:\n",
        "      # Everything else dies or stays dead:\n",
        "        nextCells[x][y] = ' '\n",
        "  time.sleep(1)"
      ],
      "execution_count": null,
      "outputs": []
    },
    {
      "cell_type": "markdown",
      "metadata": {
        "id": "AtcHqwQ99oaO"
      },
      "source": [
        "# Dictionaries & Structuring Data - Tic-Tac-Toe Board\n"
      ]
    },
    {
      "cell_type": "code",
      "metadata": {
        "colab": {
          "base_uri": "https://localhost:8080/",
          "height": 1000
        },
        "id": "4YwJtPVY9sjW",
        "outputId": "8c234f6a-9ed8-4c5b-c72f-f7c6b016cc04"
      },
      "source": [
        "theBoard = {'top-L': ' ', 'top-M': ' ', 'top-R': ' ', 'mid-L': ' ', 'mid-M': ' ', 'mid-R': ' ', 'low-L': ' ', 'low-M': ' ', 'low-R': ' '}\n",
        "def printBoard(board):\n",
        "    print(board['top-L'] + '|' + board['top-M'] + '|' + board['top-R'])\n",
        "    print('-+-+-')\n",
        "    print(board['mid-L'] + '|' + board['mid-M'] + '|' + board['mid-R'])\n",
        "    print('-+-+-')\n",
        "    print(board['low-L'] + '|' + board['low-M'] + '|' + board['low-R'])\n",
        "turn = 'X'\n",
        "\n",
        "for i in range(9):\n",
        "  printBoard(theBoard)\n",
        "  print('Turn for ' + turn + '. Move on which space?')\n",
        "  move= input()\n",
        "  theBoard[move] = turn\n",
        "  if turn == 'X':\n",
        "      turn = '0'\n",
        "  else:\n",
        "      turn = 'X'\n",
        "printBoard(theBoard)"
      ],
      "execution_count": null,
      "outputs": [
        {
          "output_type": "stream",
          "text": [
            " | | \n",
            "-+-+-\n",
            " | | \n",
            "-+-+-\n",
            " | | \n",
            "Turn for X. Move on which space?\n",
            "1\n",
            " | | \n",
            "-+-+-\n",
            " | | \n",
            "-+-+-\n",
            " | | \n",
            "Turn for 0. Move on which space?\n",
            "top-M\n",
            " |0| \n",
            "-+-+-\n",
            " | | \n",
            "-+-+-\n",
            " | | \n",
            "Turn for X. Move on which space?\n",
            "0\n",
            " |0| \n",
            "-+-+-\n",
            " | | \n",
            "-+-+-\n",
            " | | \n",
            "Turn for 0. Move on which space?\n",
            "low-M\n",
            " |0| \n",
            "-+-+-\n",
            " | | \n",
            "-+-+-\n",
            " |0| \n",
            "Turn for X. Move on which space?\n",
            "mid-M\n",
            " |0| \n",
            "-+-+-\n",
            " |X| \n",
            "-+-+-\n",
            " |0| \n",
            "Turn for 0. Move on which space?\n",
            "top-M\n",
            " |0| \n",
            "-+-+-\n",
            " |X| \n",
            "-+-+-\n",
            " |0| \n",
            "Turn for X. Move on which space?\n"
          ],
          "name": "stdout"
        },
        {
          "output_type": "error",
          "ename": "KeyboardInterrupt",
          "evalue": "ignored",
          "traceback": [
            "\u001b[0;31m---------------------------------------------------------------------------\u001b[0m",
            "\u001b[0;31mKeyboardInterrupt\u001b[0m                         Traceback (most recent call last)",
            "\u001b[0;32m/usr/local/lib/python3.7/dist-packages/ipykernel/kernelbase.py\u001b[0m in \u001b[0;36m_input_request\u001b[0;34m(self, prompt, ident, parent, password)\u001b[0m\n\u001b[1;32m    728\u001b[0m             \u001b[0;32mtry\u001b[0m\u001b[0;34m:\u001b[0m\u001b[0;34m\u001b[0m\u001b[0;34m\u001b[0m\u001b[0m\n\u001b[0;32m--> 729\u001b[0;31m                 \u001b[0mident\u001b[0m\u001b[0;34m,\u001b[0m \u001b[0mreply\u001b[0m \u001b[0;34m=\u001b[0m \u001b[0mself\u001b[0m\u001b[0;34m.\u001b[0m\u001b[0msession\u001b[0m\u001b[0;34m.\u001b[0m\u001b[0mrecv\u001b[0m\u001b[0;34m(\u001b[0m\u001b[0mself\u001b[0m\u001b[0;34m.\u001b[0m\u001b[0mstdin_socket\u001b[0m\u001b[0;34m,\u001b[0m \u001b[0;36m0\u001b[0m\u001b[0;34m)\u001b[0m\u001b[0;34m\u001b[0m\u001b[0;34m\u001b[0m\u001b[0m\n\u001b[0m\u001b[1;32m    730\u001b[0m             \u001b[0;32mexcept\u001b[0m \u001b[0mException\u001b[0m\u001b[0;34m:\u001b[0m\u001b[0;34m\u001b[0m\u001b[0;34m\u001b[0m\u001b[0m\n",
            "\u001b[0;32m/usr/local/lib/python3.7/dist-packages/jupyter_client/session.py\u001b[0m in \u001b[0;36mrecv\u001b[0;34m(self, socket, mode, content, copy)\u001b[0m\n\u001b[1;32m    802\u001b[0m         \u001b[0;32mtry\u001b[0m\u001b[0;34m:\u001b[0m\u001b[0;34m\u001b[0m\u001b[0;34m\u001b[0m\u001b[0m\n\u001b[0;32m--> 803\u001b[0;31m             \u001b[0mmsg_list\u001b[0m \u001b[0;34m=\u001b[0m \u001b[0msocket\u001b[0m\u001b[0;34m.\u001b[0m\u001b[0mrecv_multipart\u001b[0m\u001b[0;34m(\u001b[0m\u001b[0mmode\u001b[0m\u001b[0;34m,\u001b[0m \u001b[0mcopy\u001b[0m\u001b[0;34m=\u001b[0m\u001b[0mcopy\u001b[0m\u001b[0;34m)\u001b[0m\u001b[0;34m\u001b[0m\u001b[0;34m\u001b[0m\u001b[0m\n\u001b[0m\u001b[1;32m    804\u001b[0m         \u001b[0;32mexcept\u001b[0m \u001b[0mzmq\u001b[0m\u001b[0;34m.\u001b[0m\u001b[0mZMQError\u001b[0m \u001b[0;32mas\u001b[0m \u001b[0me\u001b[0m\u001b[0;34m:\u001b[0m\u001b[0;34m\u001b[0m\u001b[0;34m\u001b[0m\u001b[0m\n",
            "\u001b[0;32m/usr/local/lib/python3.7/dist-packages/zmq/sugar/socket.py\u001b[0m in \u001b[0;36mrecv_multipart\u001b[0;34m(self, flags, copy, track)\u001b[0m\n\u001b[1;32m    582\u001b[0m         \"\"\"\n\u001b[0;32m--> 583\u001b[0;31m         \u001b[0mparts\u001b[0m \u001b[0;34m=\u001b[0m \u001b[0;34m[\u001b[0m\u001b[0mself\u001b[0m\u001b[0;34m.\u001b[0m\u001b[0mrecv\u001b[0m\u001b[0;34m(\u001b[0m\u001b[0mflags\u001b[0m\u001b[0;34m,\u001b[0m \u001b[0mcopy\u001b[0m\u001b[0;34m=\u001b[0m\u001b[0mcopy\u001b[0m\u001b[0;34m,\u001b[0m \u001b[0mtrack\u001b[0m\u001b[0;34m=\u001b[0m\u001b[0mtrack\u001b[0m\u001b[0;34m)\u001b[0m\u001b[0;34m]\u001b[0m\u001b[0;34m\u001b[0m\u001b[0;34m\u001b[0m\u001b[0m\n\u001b[0m\u001b[1;32m    584\u001b[0m         \u001b[0;31m# have first part already, only loop while more to receive\u001b[0m\u001b[0;34m\u001b[0m\u001b[0;34m\u001b[0m\u001b[0;34m\u001b[0m\u001b[0m\n",
            "\u001b[0;32mzmq/backend/cython/socket.pyx\u001b[0m in \u001b[0;36mzmq.backend.cython.socket.Socket.recv\u001b[0;34m()\u001b[0m\n",
            "\u001b[0;32mzmq/backend/cython/socket.pyx\u001b[0m in \u001b[0;36mzmq.backend.cython.socket.Socket.recv\u001b[0;34m()\u001b[0m\n",
            "\u001b[0;32mzmq/backend/cython/socket.pyx\u001b[0m in \u001b[0;36mzmq.backend.cython.socket._recv_copy\u001b[0;34m()\u001b[0m\n",
            "\u001b[0;32m/usr/local/lib/python3.7/dist-packages/zmq/backend/cython/checkrc.pxd\u001b[0m in \u001b[0;36mzmq.backend.cython.checkrc._check_rc\u001b[0;34m()\u001b[0m\n",
            "\u001b[0;31mKeyboardInterrupt\u001b[0m: ",
            "\nDuring handling of the above exception, another exception occurred:\n",
            "\u001b[0;31mKeyboardInterrupt\u001b[0m                         Traceback (most recent call last)",
            "\u001b[0;32m<ipython-input-1-f303f3b18efd>\u001b[0m in \u001b[0;36m<module>\u001b[0;34m()\u001b[0m\n\u001b[1;32m     11\u001b[0m   \u001b[0mprintBoard\u001b[0m\u001b[0;34m(\u001b[0m\u001b[0mtheBoard\u001b[0m\u001b[0;34m)\u001b[0m\u001b[0;34m\u001b[0m\u001b[0;34m\u001b[0m\u001b[0m\n\u001b[1;32m     12\u001b[0m   \u001b[0mprint\u001b[0m\u001b[0;34m(\u001b[0m\u001b[0;34m'Turn for '\u001b[0m \u001b[0;34m+\u001b[0m \u001b[0mturn\u001b[0m \u001b[0;34m+\u001b[0m \u001b[0;34m'. Move on which space?'\u001b[0m\u001b[0;34m)\u001b[0m\u001b[0;34m\u001b[0m\u001b[0;34m\u001b[0m\u001b[0m\n\u001b[0;32m---> 13\u001b[0;31m   \u001b[0mmove\u001b[0m\u001b[0;34m=\u001b[0m \u001b[0minput\u001b[0m\u001b[0;34m(\u001b[0m\u001b[0;34m)\u001b[0m\u001b[0;34m\u001b[0m\u001b[0;34m\u001b[0m\u001b[0m\n\u001b[0m\u001b[1;32m     14\u001b[0m   \u001b[0mtheBoard\u001b[0m\u001b[0;34m[\u001b[0m\u001b[0mmove\u001b[0m\u001b[0;34m]\u001b[0m \u001b[0;34m=\u001b[0m \u001b[0mturn\u001b[0m\u001b[0;34m\u001b[0m\u001b[0;34m\u001b[0m\u001b[0m\n\u001b[1;32m     15\u001b[0m   \u001b[0;32mif\u001b[0m \u001b[0mturn\u001b[0m \u001b[0;34m==\u001b[0m \u001b[0;34m'X'\u001b[0m\u001b[0;34m:\u001b[0m\u001b[0;34m\u001b[0m\u001b[0;34m\u001b[0m\u001b[0m\n",
            "\u001b[0;32m/usr/local/lib/python3.7/dist-packages/ipykernel/kernelbase.py\u001b[0m in \u001b[0;36mraw_input\u001b[0;34m(self, prompt)\u001b[0m\n\u001b[1;32m    702\u001b[0m             \u001b[0mself\u001b[0m\u001b[0;34m.\u001b[0m\u001b[0m_parent_ident\u001b[0m\u001b[0;34m,\u001b[0m\u001b[0;34m\u001b[0m\u001b[0;34m\u001b[0m\u001b[0m\n\u001b[1;32m    703\u001b[0m             \u001b[0mself\u001b[0m\u001b[0;34m.\u001b[0m\u001b[0m_parent_header\u001b[0m\u001b[0;34m,\u001b[0m\u001b[0;34m\u001b[0m\u001b[0;34m\u001b[0m\u001b[0m\n\u001b[0;32m--> 704\u001b[0;31m             \u001b[0mpassword\u001b[0m\u001b[0;34m=\u001b[0m\u001b[0;32mFalse\u001b[0m\u001b[0;34m,\u001b[0m\u001b[0;34m\u001b[0m\u001b[0;34m\u001b[0m\u001b[0m\n\u001b[0m\u001b[1;32m    705\u001b[0m         )\n\u001b[1;32m    706\u001b[0m \u001b[0;34m\u001b[0m\u001b[0m\n",
            "\u001b[0;32m/usr/local/lib/python3.7/dist-packages/ipykernel/kernelbase.py\u001b[0m in \u001b[0;36m_input_request\u001b[0;34m(self, prompt, ident, parent, password)\u001b[0m\n\u001b[1;32m    732\u001b[0m             \u001b[0;32mexcept\u001b[0m \u001b[0mKeyboardInterrupt\u001b[0m\u001b[0;34m:\u001b[0m\u001b[0;34m\u001b[0m\u001b[0;34m\u001b[0m\u001b[0m\n\u001b[1;32m    733\u001b[0m                 \u001b[0;31m# re-raise KeyboardInterrupt, to truncate traceback\u001b[0m\u001b[0;34m\u001b[0m\u001b[0;34m\u001b[0m\u001b[0;34m\u001b[0m\u001b[0m\n\u001b[0;32m--> 734\u001b[0;31m                 \u001b[0;32mraise\u001b[0m \u001b[0mKeyboardInterrupt\u001b[0m\u001b[0;34m\u001b[0m\u001b[0;34m\u001b[0m\u001b[0m\n\u001b[0m\u001b[1;32m    735\u001b[0m             \u001b[0;32melse\u001b[0m\u001b[0;34m:\u001b[0m\u001b[0;34m\u001b[0m\u001b[0;34m\u001b[0m\u001b[0m\n\u001b[1;32m    736\u001b[0m                 \u001b[0;32mbreak\u001b[0m\u001b[0;34m\u001b[0m\u001b[0;34m\u001b[0m\u001b[0m\n",
            "\u001b[0;31mKeyboardInterrupt\u001b[0m: "
          ]
        }
      ]
    },
    {
      "cell_type": "code",
      "metadata": {
        "id": "YaTvhaiVF6D1"
      },
      "source": [
        ""
      ],
      "execution_count": null,
      "outputs": []
    }
  ]
}